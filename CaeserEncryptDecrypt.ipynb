{
  "nbformat": 4,
  "nbformat_minor": 0,
  "metadata": {
    "colab": {
      "provenance": [],
      "authorship_tag": "ABX9TyOmszaD8b6wYfJHgpYSs4gV",
      "include_colab_link": true
    },
    "kernelspec": {
      "name": "python3",
      "display_name": "Python 3"
    },
    "language_info": {
      "name": "python"
    }
  },
  "cells": [
    {
      "cell_type": "markdown",
      "metadata": {
        "id": "view-in-github",
        "colab_type": "text"
      },
      "source": [
        "<a href=\"https://colab.research.google.com/github/rubystokes/Cryptography_Portfolio/blob/main/CaeserEncryptDecrypt.ipynb\" target=\"_parent\"><img src=\"https://colab.research.google.com/assets/colab-badge.svg\" alt=\"Open In Colab\"/></a>"
      ]
    },
    {
      "cell_type": "markdown",
      "source": [
        "Caeser Cipher Encryption"
      ],
      "metadata": {
        "id": "K_enjabT-rtT"
      }
    },
    {
      "cell_type": "code",
      "execution_count": 135,
      "metadata": {
        "colab": {
          "base_uri": "https://localhost:8080/",
          "height": 36
        },
        "id": "YKOg59hP-mIu",
        "outputId": "d7d67e4b-e0ec-4e84-ef6e-d7ba4fee2560"
      },
      "outputs": [
        {
          "output_type": "execute_result",
          "data": {
            "text/plain": [
              "'mjqqt, btwqi'"
            ],
            "application/vnd.google.colaboratory.intrinsic+json": {
              "type": "string"
            }
          },
          "metadata": {},
          "execution_count": 135
        }
      ],
      "source": [
        "\"\"\"\n",
        "Input a string and a number\n",
        "'Move' each character of the string along the alphabet by the number\n",
        "Output the encrypted string\n",
        "\"\"\"\n",
        "\n",
        "def caeser_encrypt(sentence_string, number_key):\n",
        "  encryption = []\n",
        "  for char in sentence_string.lower():\n",
        "    #handle exceptions like spaces, commas\n",
        "    if char.isalpha()==False:\n",
        "      encryption.append(char)\n",
        "    #ensure numbers > 122 roll around to 97 again\n",
        "    elif ord(char) + number_key > 122:\n",
        "      encryption.append(chr(ord(char) + number_key - 26))\n",
        "    else:\n",
        "      encryption.append(chr(ord(char) + number_key))\n",
        "  return ''.join(encryption)\n",
        "\n",
        "caeser_encrypt(\"hello, world\", 5)"
      ]
    },
    {
      "cell_type": "markdown",
      "source": [
        "Caeser Cipher Decryption - known key"
      ],
      "metadata": {
        "id": "dr3M4qPq-679"
      }
    },
    {
      "cell_type": "code",
      "source": [
        "\"\"\"\n",
        "Input a string and a number\n",
        "'Move' each character back through the alphabet by the number\n",
        "Output the decrypted string\n",
        "\"\"\"\n",
        "def caeser_decrypt(sentence_string, number_key):\n",
        "  decryption = []\n",
        "  for char in sentence_string.lower():\n",
        "    #handle exceptions like spaces, commas\n",
        "    if char.isalpha()==False:\n",
        "      decryption.append(char)\n",
        "    #handle chars returning values less than 97\n",
        "    elif ord(char) - number_key < 97:\n",
        "      decryption.append(chr(ord(char) - number_key + 26))\n",
        "    else:\n",
        "      decryption.append(chr(ord(char) - number_key))\n",
        "  return ''.join(decryption)\n",
        "\n",
        "caeser_decrypt(\"mjqqt, btwqi\", 5)"
      ],
      "metadata": {
        "colab": {
          "base_uri": "https://localhost:8080/",
          "height": 36
        },
        "id": "WxcmTQupK2nZ",
        "outputId": "0a6ea986-4bef-485c-8130-70ebc938ba0f"
      },
      "execution_count": 136,
      "outputs": [
        {
          "output_type": "execute_result",
          "data": {
            "text/plain": [
              "'hello, world'"
            ],
            "application/vnd.google.colaboratory.intrinsic+json": {
              "type": "string"
            }
          },
          "metadata": {},
          "execution_count": 136
        }
      ]
    },
    {
      "cell_type": "markdown",
      "source": [
        "Cipher decryption - unknown key (brute force)"
      ],
      "metadata": {
        "id": "ldT_owKlXgMa"
      }
    },
    {
      "cell_type": "code",
      "source": [
        "\"\"\"\n",
        "Input a string and value representing a range\n",
        "Output all caeser decryptions in that range\n",
        "\"\"\"\n",
        "\n",
        "def caeser_brute_decrypt(sentence_string, number_key):\n",
        "  decryption = []\n",
        "  for i in range(1, number_key+1):\n",
        "    new_list = []\n",
        "    for char in sentence_string.lower():\n",
        "      if char.isalpha()==False:\n",
        "        new_list.append(char)\n",
        "      elif ord(char) - i < 97:\n",
        "        new_list.append(chr(ord(char) - i + 26))\n",
        "      else:\n",
        "        new_list.append(chr(ord(char) - i))\n",
        "    decryption.append(''.join(new_list))\n",
        "  return decryption\n",
        "\n",
        "caeser_brute_decrypt(\"mjqqt, btwqi\", 26)"
      ],
      "metadata": {
        "colab": {
          "base_uri": "https://localhost:8080/"
        },
        "id": "Y9HBQEwAXoHz",
        "outputId": "68eff182-5ddd-4b4b-e433-a1a865ff1256"
      },
      "execution_count": 198,
      "outputs": [
        {
          "output_type": "execute_result",
          "data": {
            "text/plain": [
              "['lipps, asvph',\n",
              " 'khoor, zruog',\n",
              " 'jgnnq, yqtnf',\n",
              " 'ifmmp, xpsme',\n",
              " 'hello, world',\n",
              " 'gdkkn, vnqkc',\n",
              " 'fcjjm, umpjb',\n",
              " 'ebiil, tloia',\n",
              " 'dahhk, sknhz',\n",
              " 'czggj, rjmgy',\n",
              " 'byffi, qilfx',\n",
              " 'axeeh, phkew',\n",
              " 'zwddg, ogjdv',\n",
              " 'yvccf, nficu',\n",
              " 'xubbe, mehbt',\n",
              " 'wtaad, ldgas',\n",
              " 'vszzc, kcfzr',\n",
              " 'uryyb, jbeyq',\n",
              " 'tqxxa, iadxp',\n",
              " 'spwwz, hzcwo',\n",
              " 'rovvy, gybvn',\n",
              " 'qnuux, fxaum',\n",
              " 'pmttw, ewztl',\n",
              " 'olssv, dvysk',\n",
              " 'nkrru, cuxrj',\n",
              " 'mjqqt, btwqi']"
            ]
          },
          "metadata": {},
          "execution_count": 198
        }
      ]
    }
  ]
}